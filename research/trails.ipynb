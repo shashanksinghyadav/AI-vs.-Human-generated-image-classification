{
 "cells": [
  {
   "cell_type": "code",
   "execution_count": 1,
   "id": "c04e7586",
   "metadata": {},
   "outputs": [],
   "source": [
    "d={\"key\":\"value\",\"key1\":\"value\"}\n",
    "# to access values d.key instead of d['key']\n",
    "from box import ConfigBox\n",
    "d2=ConfigBox(d)\n"
   ]
  }
 ],
 "metadata": {
  "kernelspec": {
   "display_name": "myenv",
   "language": "python",
   "name": "python3"
  },
  "language_info": {
   "codemirror_mode": {
    "name": "ipython",
    "version": 3
   },
   "file_extension": ".py",
   "mimetype": "text/x-python",
   "name": "python",
   "nbconvert_exporter": "python",
   "pygments_lexer": "ipython3",
   "version": "3.11.13"
  }
 },
 "nbformat": 4,
 "nbformat_minor": 5
}
